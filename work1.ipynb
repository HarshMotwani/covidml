{
 "cells": [
  {
   "cell_type": "code",
   "execution_count": 3,
   "metadata": {},
   "outputs": [
    {
     "name": "stdout",
     "output_type": "stream",
     "text": [
      "fever ? Y/N - Y\n",
      "Dry cough ? Y/N - Y\n",
      "Tiredness ? Y/N - Y\n",
      "headache ? Y/N - Y\n",
      "conjunctivitis ? Y/N - Y\n",
      "diarrhoea ? Y/N - Y\n",
      "sore throat ? Y/N - \n",
      "rash ? Y/N - Y\n"
     ]
    }
   ],
   "source": [
    "Fever=input(\"fever ? Y/N - \")\n",
    "Dry_cough=input(\"Dry cough ? Y/N - \")\n",
    "Tiredness=input(\"Tiredness ? Y/N - \")\n",
    "headache=input(\"headache ? Y/N - \")\n",
    "conjunctivitis=input(\"conjunctivitis ? Y/N - \")\n",
    "diarrhoea=input(\"diarrhoea ? Y/N - \")\n",
    "sore_throat=input(\"sore throat ? Y/N - \")\n",
    "rash=input(\"rash ? Y/N - \")"
   ]
  },
  {
   "cell_type": "code",
   "execution_count": null,
   "metadata": {},
   "outputs": [],
   "source": []
  }
 ],
 "metadata": {
  "kernelspec": {
   "display_name": "Python 3",
   "language": "python",
   "name": "python3"
  },
  "language_info": {
   "codemirror_mode": {
    "name": "ipython",
    "version": 3
   },
   "file_extension": ".py",
   "mimetype": "text/x-python",
   "name": "python",
   "nbconvert_exporter": "python",
   "pygments_lexer": "ipython3",
   "version": "3.7.4"
  }
 },
 "nbformat": 4,
 "nbformat_minor": 2
}
